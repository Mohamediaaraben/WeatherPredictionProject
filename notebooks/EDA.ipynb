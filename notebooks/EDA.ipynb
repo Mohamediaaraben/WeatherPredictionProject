import pandas as pd
import seaborn as sns
import matplotlib.pyplot as plt

# Charger les données
df = pd.read_csv('../data/TemperatureRainFall.csv')

# Afficher les premières lignes
print(df.head())

# Visualisation de la corrélation entre les variables
sns.heatmap(df.corr(), annot=True, cmap='coolwarm')
plt.show()
